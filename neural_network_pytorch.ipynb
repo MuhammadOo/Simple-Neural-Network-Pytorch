{
  "nbformat": 4,
  "nbformat_minor": 0,
  "metadata": {
    "colab": {
      "name": "neural_network_pytorch.ipynb",
      "provenance": []
    },
    "kernelspec": {
      "name": "python3",
      "display_name": "Python 3"
    },
    "language_info": {
      "name": "python"
    }
  },
  "cells": [
    {
      "cell_type": "code",
      "execution_count": 1,
      "metadata": {
        "id": "pKgF4Kz4skbq"
      },
      "outputs": [],
      "source": [
        "import torch\n",
        "import torch.nn as nn\n",
        "import torch.nn.functional as F\n",
        "from torch.optim import SGD\n",
        "import matplotlib.pyplot as plt\n",
        "import seaborn as sns"
      ]
    },
    {
      "cell_type": "markdown",
      "source": [
        "# Let's build neural network"
      ],
      "metadata": {
        "id": "LT7duMtVtNdb"
      }
    },
    {
      "cell_type": "code",
      "source": [
        "class BasicNN(nn.Module):\n",
        "\n",
        "    def __init__(self):    #initialization method for the parent class (nn.Module)  \n",
        "        super().__init__() #call initialize method\n",
        "\n",
        "        #initialize weights and biases \n",
        "        self.w00 = nn.Parameter(torch.tensor(1.7), requires_grad=False)\n",
        "        self.b00 = nn.Parameter(torch.tensor(-0.85), requires_grad=False)\n",
        "        self.w01 = nn.Parameter(torch.tensor(-40.8), requires_grad=False)\n",
        "\n",
        "        self.w10 = nn.Parameter(torch.tensor(12.6), requires_grad=False)\n",
        "        self.b10 = nn.Parameter(torch.tensor(0.0), requires_grad=False)\n",
        "        self.w11 = nn.Parameter(torch.tensor(2.70), requires_grad=False)\n",
        "\n",
        "        self.final_bias = nn.Parameter(torch.tensor(-16.), requires_grad=False)\n",
        "\n",
        "    def forward(self, input): #forward pass\n",
        "        input_to_top_relu = input * self.w00 + self.b00\n",
        "        top_relu_output = F.relu(input_to_top_relu)\n",
        "        scaled_top_relu_output = top_relu_output * self.w01\n",
        "\n",
        "        input_to_bottom_relu = input * self.w10 + self.b10\n",
        "        bottom_relu_output = F.relu(input_to_bottom_relu)\n",
        "        scaled_bottom_relu_output = bottom_relu_output * self.w11\n",
        "\n",
        "        input_to_final_relu = scaled_bottom_relu_output + scaled_top_relu_output + self.final_bias\n",
        "        output = F.relu(input_to_final_relu)\n",
        "\n",
        "        return output\n"
      ],
      "metadata": {
        "id": "kd8oh-xqsqwX"
      },
      "execution_count": null,
      "outputs": []
    },
    {
      "cell_type": "code",
      "source": [
        "# input data\n",
        "input_doses = torch.linspace(start=0, end=1, steps=11)\n",
        "input_doses"
      ],
      "metadata": {
        "colab": {
          "base_uri": "https://localhost:8080/"
        },
        "id": "YfIGwj9HxkVo",
        "outputId": "bad53836-e9ea-46b7-8a6d-007a220354e3"
      },
      "execution_count": null,
      "outputs": [
        {
          "output_type": "execute_result",
          "data": {
            "text/plain": [
              "tensor([0.0000, 0.1000, 0.2000, 0.3000, 0.4000, 0.5000, 0.6000, 0.7000, 0.8000,\n",
              "        0.9000, 1.0000])"
            ]
          },
          "metadata": {},
          "execution_count": 3
        }
      ]
    },
    {
      "cell_type": "code",
      "source": [
        "model = BasicNN()\n",
        "output_values = model(input_doses)"
      ],
      "metadata": {
        "id": "tdXWsc-00cw-"
      },
      "execution_count": null,
      "outputs": []
    },
    {
      "cell_type": "code",
      "source": [
        "sns.set(style='whitegrid')\n",
        "sns.lineplot(x=input_doses, y=output_values, color='green', linewidth=2.5)\n",
        "plt.xlabel('Dosage')\n",
        "plt.ylabel('Effectiveness')"
      ],
      "metadata": {
        "colab": {
          "base_uri": "https://localhost:8080/",
          "height": 302
        },
        "id": "Hod1JlfD5IaU",
        "outputId": "ede79f6a-6185-4b80-b197-d5bcea5e5edb"
      },
      "execution_count": null,
      "outputs": [
        {
          "output_type": "execute_result",
          "data": {
            "text/plain": [
              "Text(0, 0.5, 'Effectiveness')"
            ]
          },
          "metadata": {},
          "execution_count": 5
        },
        {
          "output_type": "display_data",
          "data": {
            "text/plain": [
              "<Figure size 432x288 with 1 Axes>"
            ],
            "image/png": "[encoded data removed]"
          },
          "metadata": {}
        }
      ]
    },
    {
      "cell_type": "markdown",
      "source": [
        "**Let's pretend we don't already know the optimal value for final bias.**"
      ],
      "metadata": {
        "id": "BfNyTWZi77bQ"
      }
    },
    {
      "cell_type": "code",
      "source": [
        "class BasicNN_train(nn.Module):\n",
        "\n",
        "    def __init__(self):    #initialization method for the parent class (nn.Module)  \n",
        "        super().__init__() #call initialize method\n",
        "\n",
        "        #initialize weights and biases \n",
        "        self.w00 = nn.Parameter(torch.tensor(1.7), requires_grad=False)\n",
        "        self.b00 = nn.Parameter(torch.tensor(-0.85), requires_grad=False)\n",
        "        self.w01 = nn.Parameter(torch.tensor(-40.8), requires_grad=False)\n",
        "\n",
        "        self.w10 = nn.Parameter(torch.tensor(12.6), requires_grad=False)\n",
        "        self.b10 = nn.Parameter(torch.tensor(0.0), requires_grad=False)\n",
        "        self.w11 = nn.Parameter(torch.tensor(2.70), requires_grad=False)\n",
        "\n",
        "        self.final_bias = nn.Parameter(torch.tensor(0.), requires_grad=True)\n",
        "\n",
        "    def forward(self, input): #forward pass\n",
        "        input_to_top_relu = input * self.w00 + self.b00\n",
        "        top_relu_output = F.relu(input_to_top_relu)\n",
        "        scaled_top_relu_output = top_relu_output * self.w01\n",
        "\n",
        "        input_to_bottom_relu = input * self.w10 + self.b10\n",
        "        bottom_relu_output = F.relu(input_to_bottom_relu)\n",
        "        scaled_bottom_relu_output = bottom_relu_output * self.w11\n",
        "\n",
        "        input_to_final_relu = scaled_bottom_relu_output + scaled_top_relu_output + self.final_bias\n",
        "        output = F.relu(input_to_final_relu)\n",
        "\n",
        "        return output"
      ],
      "metadata": {
        "id": "4xh6HgHs68t-"
      },
      "execution_count": null,
      "outputs": []
    },
    {
      "cell_type": "code",
      "source": [
        "model = BasicNN_train()\n",
        "output_values = model(input_doses)"
      ],
      "metadata": {
        "id": "kTj1EnTV8aAQ"
      },
      "execution_count": null,
      "outputs": []
    },
    {
      "cell_type": "code",
      "source": [
        "sns.set(style='whitegrid')\n",
        "sns.lineplot(x=input_doses, y=output_values.detach(), color='green', linewidth=2.5)\n",
        "plt.xlabel('Dosage')\n",
        "plt.ylabel('Effectiveness')"
      ],
      "metadata": {
        "colab": {
          "base_uri": "https://localhost:8080/",
          "height": 302
        },
        "id": "SLAJpZCO8Zwm",
        "outputId": "36b83d39-6798-4a50-b311-a2045ca10ea8"
      },
      "execution_count": null,
      "outputs": [
        {
          "output_type": "execute_result",
          "data": {
            "text/plain": [
              "Text(0, 0.5, 'Effectiveness')"
            ]
          },
          "metadata": {},
          "execution_count": 9
        },
        {
          "output_type": "display_data",
          "data": {
            "text/plain": [
              "<Figure size 432x288 with 1 Axes>"
            ],
            "image/png": "[encoded data removed]"
          },
          "metadata": {}
        }
      ]
    },
    {
      "cell_type": "markdown",
      "source": [
        "b(final) should be optimized, thus, we need training data."
      ],
      "metadata": {
        "id": "HS1zLLIUh9-O"
      }
    },
    {
      "cell_type": "code",
      "source": [
        "inputs = torch.tensor([0., 0.5, 1.])\n",
        "labels = torch.tensor([0., 1, 0.])"
      ],
      "metadata": {
        "id": "j4hSw0Ta8ZtK"
      },
      "execution_count": null,
      "outputs": []
    },
    {
      "cell_type": "markdown",
      "source": [
        "Now, we are ready to optimize the last bias term."
      ],
      "metadata": {
        "id": "yjE6S9mFiU7J"
      }
    },
    {
      "cell_type": "code",
      "source": [
        "optimizer = SGD(model.parameters(), lr=0.1)\n",
        "\n",
        "print(\"Final bias, before optimization: \" + str(model.final_bias.data) + \"\\n\")\n",
        "\n",
        "for epoch in range(100):\n",
        "    total_loss = 0\n",
        "\n",
        "    for iteration in range(len(inputs)):\n",
        "        input_i = inputs[iteration]\n",
        "        label_i = labels[iteration]\n",
        "\n",
        "        output_i = model(input_i)\n",
        "        loss = (output_i - label_i)**2\n",
        "        loss.backward()\n",
        "\n",
        "        total_loss = total_loss + float(loss)\n",
        "\n",
        "    if (total_loss < 0.0001):\n",
        "        print(\"Number of steps: \" + str(epoch))\n",
        "        break\n",
        "\n",
        "    optimizer.step()\n",
        "    optimizer.zero_grad()\n",
        "\n",
        "    print(\"Step: \" + str(epoch) + \" Final bias: \" + str(model.final_bias.data) + '\\n')\n"
      ],
      "metadata": {
        "colab": {
          "base_uri": "https://localhost:8080/"
        },
        "id": "JeGxuXsFiRm9",
        "outputId": "8a37a5f9-a11c-461b-9ca0-dc0dd41beeec"
      },
      "execution_count": null,
      "outputs": [
        {
          "output_type": "stream",
          "name": "stdout",
          "text": [
            "Final bias, before optimization: tensor(0.)\n",
            "\n",
            "Step: 0 Final bias: tensor(-3.2020)\n",
            "\n",
            "Step: 1 Final bias: tensor(-5.7636)\n",
            "\n",
            "Step: 2 Final bias: tensor(-7.8129)\n",
            "\n",
            "Step: 3 Final bias: tensor(-9.4523)\n",
            "\n",
            "Step: 4 Final bias: tensor(-10.7638)\n",
            "\n",
            "Step: 5 Final bias: tensor(-11.8131)\n",
            "\n",
            "Step: 6 Final bias: tensor(-12.6525)\n",
            "\n",
            "Step: 7 Final bias: tensor(-13.3240)\n",
            "\n",
            "Step: 8 Final bias: tensor(-13.8612)\n",
            "\n",
            "Step: 9 Final bias: tensor(-14.2909)\n",
            "\n",
            "Step: 10 Final bias: tensor(-14.6348)\n",
            "\n",
            "Step: 11 Final bias: tensor(-14.9098)\n",
            "\n",
            "Step: 12 Final bias: tensor(-15.1298)\n",
            "\n",
            "Step: 13 Final bias: tensor(-15.3059)\n",
            "\n",
            "Step: 14 Final bias: tensor(-15.4467)\n",
            "\n",
            "Step: 15 Final bias: tensor(-15.5594)\n",
            "\n",
            "Step: 16 Final bias: tensor(-15.6495)\n",
            "\n",
            "Step: 17 Final bias: tensor(-15.7216)\n",
            "\n",
            "Step: 18 Final bias: tensor(-15.7793)\n",
            "\n",
            "Step: 19 Final bias: tensor(-15.8254)\n",
            "\n",
            "Step: 20 Final bias: tensor(-15.8623)\n",
            "\n",
            "Step: 21 Final bias: tensor(-15.8919)\n",
            "\n",
            "Step: 22 Final bias: tensor(-15.9155)\n",
            "\n",
            "Step: 23 Final bias: tensor(-15.9344)\n",
            "\n",
            "Step: 24 Final bias: tensor(-15.9495)\n",
            "\n",
            "Step: 25 Final bias: tensor(-15.9616)\n",
            "\n",
            "Step: 26 Final bias: tensor(-15.9713)\n",
            "\n",
            "Step: 27 Final bias: tensor(-15.9790)\n",
            "\n",
            "Step: 28 Final bias: tensor(-15.9852)\n",
            "\n",
            "Step: 29 Final bias: tensor(-15.9902)\n",
            "\n",
            "Step: 30 Final bias: tensor(-15.9941)\n",
            "\n",
            "Step: 31 Final bias: tensor(-15.9973)\n",
            "\n",
            "Step: 32 Final bias: tensor(-15.9999)\n",
            "\n",
            "Step: 33 Final bias: tensor(-16.0019)\n",
            "\n",
            "Number of steps: 34\n"
          ]
        }
      ]
    },
    {
      "cell_type": "markdown",
      "source": [
        "**The optimal value for final_bias is -16.0019, which is pretty close to -16, the optimal value we used originally.**"
      ],
      "metadata": {
        "id": "i4pGP9zbl04Z"
      }
    },
    {
      "cell_type": "code",
      "source": [
        "output_values = model(input_doses)\n",
        "\n",
        "sns.set(style='whitegrid')\n",
        "sns.lineplot(x=input_doses, y=output_values.detach(), color='green', linewidth=2.5)\n",
        "plt.xlabel('Dosage')\n",
        "plt.ylabel('Effectiveness')"
      ],
      "metadata": {
        "colab": {
          "base_uri": "https://localhost:8080/",
          "height": 302
        },
        "id": "EXm0Oe9NmFU0",
        "outputId": "47b7c5b5-006a-4737-d371-3f958c369d02"
      },
      "execution_count": null,
      "outputs": [
        {
          "output_type": "execute_result",
          "data": {
            "text/plain": [
              "Text(0, 0.5, 'Effectiveness')"
            ]
          },
          "metadata": {},
          "execution_count": 13
        },
        {
          "output_type": "display_data",
          "data": {
            "text/plain": [
              "<Figure size 432x288 with 1 Axes>"
            ],
            "image/png": "[encoded data removed]"
          },
          "metadata": {}
        }
      ]
    },
    {
      "cell_type": "markdown",
      "source": [
        "**This is what we get, which shows that the neural network does exactly what we expect**"
      ],
      "metadata": {
        "id": "CsdDZ3LLmaHe"
      }
    }
  ]
}